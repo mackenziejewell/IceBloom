{
 "cells": [
  {
   "cell_type": "markdown",
   "metadata": {},
   "source": [
    "## Plot Bering Sea Ice area in winter from daily data\n",
    "\n",
    "Plot annual winter sea ice area in the Bering Sea from daily [NSIDC Sea Ice Index](https://nsidc.org/data/g02135), data accessed 3/3/2023 from https://masie_web.apps.nsidc.org/pub/DATASETS/NOAA/G02135/seaice_analysis/\n",
    "\n",
    "Fetterer, F., K. Knowles, W. N. Meier, M. Savoie, and A. K. Windnagel. 2017, updated daily. Sea Ice Index, Version 3. Boulder, Colorado USA. NSIDC: National Snow and Ice Data Center. doi: https://doi.org/10.7265/N5K072F8."
   ]
  },
  {
   "cell_type": "markdown",
   "metadata": {},
   "source": [
    "### Import packages"
   ]
  },
  {
   "cell_type": "code",
   "execution_count": 1,
   "metadata": {},
   "outputs": [],
   "source": [
    "import numpy as np, numpy.ma as ma\n",
    "import pandas as pd\n",
    "import datetime\n",
    "import matplotlib.pyplot as plt\n",
    "from matplotlib.ticker import MultipleLocator"
   ]
  },
  {
   "cell_type": "markdown",
   "metadata": {},
   "source": [
    "### Read in data from NSIDC sea ice index "
   ]
  },
  {
   "cell_type": "code",
   "execution_count": 2,
   "metadata": {},
   "outputs": [],
   "source": [
    "# import .xlsx file with regional ice area data from sea ice index\n",
    "# from sheet with Bering Sea sea ice area\n",
    "\n",
    "#========================================================================================================\n",
    "data_path = '/Volumes/Jewell_EasyStore/IceBloomData/N_Sea_Ice_Index_Regional_Daily_Data_G02135_v3.0.xlsx'\n",
    "#========================================================================================================\n",
    "\n",
    "df = pd.read_excel(data_path, sheet_name='Bering-Area-km^2')\n"
   ]
  },
  {
   "cell_type": "markdown",
   "metadata": {},
   "source": [
    "### Calculate mean sea ice area across winter (January - April) of each year 1979 - 2022"
   ]
  },
  {
   "cell_type": "code",
   "execution_count": 3,
   "metadata": {},
   "outputs": [],
   "source": [
    "# find may 1, then only grab data up to he day before\n",
    "df_winter = df[0:np.where(df.month == 'May')[0][0]]\n",
    "\n",
    "# calculate mean winter area between 1979 - 2022\n",
    "years = np.arange(1979, 2023)\n",
    "JFMA_mean = np.array([])\n",
    "for year in years:\n",
    "    mean_area = np.nanmean(df_winter[year]) # square kilometers\n",
    "    JFMA_mean = np.append(JFMA_mean, mean_area)"
   ]
  },
  {
   "cell_type": "markdown",
   "metadata": {},
   "source": [
    "### Plot timeseries of Jan-Apr mean Bering Sea sea ice area"
   ]
  },
  {
   "cell_type": "code",
   "execution_count": 4,
   "metadata": {},
   "outputs": [
    {
     "name": "stdout",
     "output_type": "stream",
     "text": [
      "Mean sea ice area 1979-2022: 4.3 * 10^5 km^2\n",
      "2018 sea ice area: 1.3 * 10^5 km^2\n"
     ]
    },
    {
     "data": {
      "image/png": "[encoded data removed]",
      "text/plain": [
       "<Figure size 432x288 with 1 Axes>"
      ]
     },
     "metadata": {
      "needs_background": "light"
     },
     "output_type": "display_data"
    }
   ],
   "source": [
    "# create figure\n",
    "#--------------\n",
    "fig, ax = plt.subplots(figsize=(6,4))\n",
    "FS = 16 # fontsize\n",
    "ax.set_title('Bering Sea January-April Mean Ice Area', fontsize=FS)\n",
    "\n",
    "# add line along average sea ice area\n",
    "#------------------------------------\n",
    "print(f'Mean sea ice area {years[0]:.0f}-{years[-1]:.0f}: {np.nanmean(JFMA_mean/100000):.1f} * 10^5 km^2')\n",
    "ax.hlines(np.nanmean(JFMA_mean/100000), years[0],years[-1], \n",
    "          colors='k', lw=0.75, linestyle='solid', zorder=-1)\n",
    "\n",
    "# plot points for each year winter ice area\n",
    "#------------------------------------------\n",
    "ax.scatter(years, JFMA_mean/100000, marker='o', c='k', s=30, zorder=0)\n",
    "\n",
    "# plot vertical lines for each year\n",
    "#-----------------------------------\n",
    "for ii in range(len(years)):\n",
    "    if years[ii] == 2018:\n",
    "        C='crimson'\n",
    "    else:\n",
    "        C='k'\n",
    "    if np.isnan(JFMA_mean[ii])==False:\n",
    "        ax.vlines(years[ii],JFMA_mean[ii]/100000, np.nanmean(JFMA_mean/100000),\n",
    "              colors=C, lw=2, zorder=-1)\n",
    "    \n",
    "# set x and y axis labels\n",
    "#------------------------\n",
    "ax.set_yticks(np.arange(0,9));\n",
    "ax.set_yticklabels(np.arange(0,9), fontsize=FS-2);\n",
    "ax.tick_params('y', length=5, width=0.5, which='major')\n",
    "ax.set_ylim(0,8)\n",
    "ax.set_ylabel('Area ($\\mathrm{{10}^{5} \\; km^2}$)', fontsize=FS)\n",
    "ax.set_xlabel('Year', fontsize=FS)\n",
    "\n",
    "years_to_label = np.arange(1979,2023)[1::10]\n",
    "ax.set_xticks(years_to_label);\n",
    "ax.set_xticklabels(years_to_label, fontsize=FS-2);\n",
    "\n",
    "# Make a plot with major ticks that are multiples of 10\n",
    "ax.xaxis.set_major_locator(MultipleLocator(10))\n",
    "ax.xaxis.set_minor_locator(MultipleLocator(1))\n",
    "ax.tick_params('x', length=7, width=0.5, which='major')\n",
    "ax.tick_params('both', length=3, width=0.5, which='minor')\n",
    "\n",
    "\n",
    "# label the 2018 minimum\n",
    "#-----------------------\n",
    "min_2018 = JFMA_mean[np.where(years==2018)[0][0]]\n",
    "print(f'2018 sea ice area: {min_2018/100000:.1f} * 10^5 km^2')\n",
    "ax.text(2018-1, 0.75, '2018', fontsize=FS, \n",
    "        horizontalalignment='right', c='crimson')\n",
    "ax.scatter(2018,min_2018/100000, \n",
    "           facecolor='crimson', edgecolor='k', lw=1, s=70, zorder=1)\n",
    "\n",
    "# add credit to NSIDC\n",
    "#--------------------\n",
    "# text_credit = 'Credit: Sea Ice Index, National Snow and Ice Data Center.'\n",
    "# ax.text(2024, 8.25, text_credit, fontsize=10, \n",
    "#         horizontalalignment='right', c='k')\n",
    "# ax.text(2024, 8.9, 'Bering Sea January-April Mean Ice Area', fontsize=FS, \n",
    "#         horizontalalignment='right', c='k')\n",
    "\n",
    "# save figure\n",
    "#------------\n",
    "# fig.savefig('./figures/BeringIceArea_annual.png', transparent=False, dpi=300, bbox_inches='tight', pad_inches=0)\n",
    "\n"
   ]
  },
  {
   "cell_type": "code",
   "execution_count": null,
   "metadata": {},
   "outputs": [],
   "source": []
  }
 ],
 "metadata": {
  "kernelspec": {
   "display_name": "geoenvOSU",
   "language": "python",
   "name": "geoenvosu"
  },
  "language_info": {
   "codemirror_mode": {
    "name": "ipython",
    "version": 3
   },
   "file_extension": ".py",
   "mimetype": "text/x-python",
   "name": "python",
   "nbconvert_exporter": "python",
   "pygments_lexer": "ipython3",
   "version": "3.9.12"
  }
 },
 "nbformat": 4,
 "nbformat_minor": 4
}
